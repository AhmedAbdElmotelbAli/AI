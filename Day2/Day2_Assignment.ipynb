{
 "cells": [
  {
   "cell_type": "markdown",
   "id": "32c7e520",
   "metadata": {
    "vscode": {
     "languageId": "plaintext"
    }
   },
   "source": [
    "### Question-1:\n",
    "Define a class called `Bike` that accepts a string and a float as input, and assigns those inputs respectively to two instance variables, `color` and `price`. and test them with two instances, the first has color blue and price is 89.99"
   ]
  },
  {
   "cell_type": "code",
   "execution_count": 1,
   "id": "510800d2",
   "metadata": {},
   "outputs": [],
   "source": [
    "class Bike:\n",
    "    def __init__(self,color,price):\n",
    "        self.color=color\n",
    "        self.price=price\n",
    "\n",
    "testOne=Bike(\"blue\",89.99)"
   ]
  },
  {
   "cell_type": "markdown",
   "id": "8cda2b82",
   "metadata": {},
   "source": [
    "---\n",
    "### Question-2\n",
    "\n",
    "Create a class called `AppleBasket` whose constructor accepts two inputs: a string representing a color, and a number representing a quantity of apples. The constructor should initialize two instance variables: `apple_color` and `apple_quantity`. Write a class method called `increase` that increases the quantity by `1` each time it is invoked. You should also write a __str__ method for this class that returns a string of format `\"A basket of [quantity goes here] [color goes here] apples.\"` e.g. `\"A basket of 4 red apples.\"` or `\"A basket of 50 blue apples.\"`"
   ]
  },
  {
   "cell_type": "code",
   "execution_count": 2,
   "id": "70b79287",
   "metadata": {},
   "outputs": [
    {
     "name": "stdout",
     "output_type": "stream",
     "text": [
      "A basket of 8 red apples.\n",
      "9\n"
     ]
    }
   ],
   "source": [
    "class AppleBasket:\n",
    "    def __init__(self,color,quant):\n",
    "        self.apple_color=color\n",
    "        self.apple_quantity=quant\n",
    "        \n",
    "    def increase(self):\n",
    "        self.apple_quantity+=1\n",
    "        return self.apple_quantity\n",
    "    \n",
    "    def __str__(self):\n",
    "        return \"A basket of {} {} apples.\".format(self.apple_quantity,self.apple_color)\n",
    "\n",
    "val1=AppleBasket('red',8)\n",
    "print(val1)\n",
    "print(val1.increase())"
   ]
  },
  {
   "cell_type": "markdown",
   "id": "7a9a1356",
   "metadata": {},
   "source": [
    "---\n",
    "\n",
    "## Question-3\n",
    "\n",
    "The class, `Pokemon`, is provided below and describes a Pokemon and its leveling and evolving characteristics. An instance of the class is one pokemon that you create.\n",
    "`Grass_Pokemon` is a subclass that inherits from `Pokemon` but changes some aspects, for instance, the boost values are different.\n",
    "For the subclass `Grass_Pokemon`, add another method called `action` that returns the string `\"[name of pkemon] knows a lot of different moves!\"`. Create an instance of this class with the `name` as `\"Belle\"`."
   ]
  },
  {
   "cell_type": "code",
   "execution_count": 4,
   "id": "5b2b4e90",
   "metadata": {},
   "outputs": [],
   "source": [
    "class Pokemon(object):\n",
    "    attack = 12\n",
    "    defense = 10\n",
    "    health = 15\n",
    "    p_type = \"Normal\"\n",
    "\n",
    "    def __init__(self, name, level = 5):\n",
    "        self.name = name\n",
    "        self.level = level\n",
    "\n",
    "    def train(self):\n",
    "        self.update()\n",
    "        self.attack_up()\n",
    "        self.defense_up()\n",
    "        self.health_up()\n",
    "        self.level = self.level + 1\n",
    "        if self.level%self.evolve == 0:\n",
    "            return self.level, \"Evolved!\"\n",
    "        else:\n",
    "            return self.level\n",
    "\n",
    "    def attack_up(self):\n",
    "        self.attack = self.attack + self.attack_boost\n",
    "        return self.attack\n",
    "\n",
    "    def defense_up(self):\n",
    "        self.defense = self.defense + self.defense_boost\n",
    "        return self.defense\n",
    "\n",
    "    def health_up(self):\n",
    "        self.health = self.health + self.health_boost\n",
    "        return self.health\n",
    "\n",
    "    def update(self):\n",
    "        self.health_boost = 5\n",
    "        self.attack_boost = 3\n",
    "        self.defense_boost = 2\n",
    "        self.evolve = 10\n",
    "\n",
    "    def __str__(self):\n",
    "        self.update()\n",
    "        return \"Pokemon name: {}, Type: {}, Level: {}\".format(self.name, self.p_type, self.level)"
   ]
  },
  {
   "cell_type": "code",
   "execution_count": 5,
   "id": "493f7d62",
   "metadata": {},
   "outputs": [
    {
     "name": "stdout",
     "output_type": "stream",
     "text": [
      "Pokemon name: Belle, Type: Normal, Level: 5\n"
     ]
    }
   ],
   "source": [
    "class Grass_Pokemon(Pokemon):\n",
    "    attack = 15\n",
    "    defense = 14\n",
    "    health = 12\n",
    "\n",
    "    def update(self):\n",
    "        self.health_boost = 6\n",
    "        self.attack_boost = 2\n",
    "        self.defense_boost = 3\n",
    "        self.evolve = 12\n",
    "\n",
    "    def moves(self):\n",
    "        self.p_moves = [\"razor leaf\", \"synthesis\", \"petal dance\"]\n",
    "     \n",
    "    def action(self):\n",
    "        return \"{} knows a lot of different moves!\".format(self.name)\n",
    "    \n",
    "p1=Grass_Pokemon('Belle')\n",
    "print(p1)"
   ]
  },
  {
   "cell_type": "markdown",
   "id": "650d7b74",
   "metadata": {},
   "source": [
    "---\n",
    "\n",
    "## Question-4\n",
    "\n",
    "Modify the `\"Grass_Pokemon\"` subclass so that the attack strength for `\"Grass_Pokemon\"` instances does not change until they reach level 10. At level 10 and up, their attack strength should increase by the `\"attack_boost\"` amount when they are trained.\n",
    "\n",
    "To test, create an instance of the class with the name as `\"Bulby\"`. Create another instance of the `\"Grass_Pokemon\"` class with the name set to `\"Pika\"`. Then, use `\"Grass_Pokemon\"` methods to train the second instance until it reaches at least level 10.\n",
    "\n",
    "e.g;\n",
    "```\n",
    "p2 = Grass_Pokemon(\"Bulby\")\n",
    "p3 = Grass_Pokemon(\"Pika\")\n",
    "print(p2)\n",
    "print(p3)\n",
    "p3.train()\n",
    "```"
   ]
  },
  {
   "cell_type": "code",
   "execution_count": 6,
   "id": "a6ee74f7",
   "metadata": {},
   "outputs": [],
   "source": [
    "class Grass_Pokemon(Pokemon):\n",
    "    attack = 15\n",
    "    defense = 14\n",
    "    health = 12\n",
    "    p_type = \"Grass\"\n",
    "\n",
    "    def update(self):\n",
    "        self.health_boost = 6\n",
    "        self.attack_boost = 2\n",
    "        self.defense_boost = 3\n",
    "        self.evolve = 12\n",
    "\n",
    "    def moves(self):\n",
    "        self.p_moves = [\"razor leaf\", \"synthesis\", \"petal dance\"]\n",
    "     \n",
    "    def train(self):\n",
    "        self.update()\n",
    "        if self.level >= 10:\n",
    "            self.attack_up()\n",
    "        self.defense_up()\n",
    "        self.health_up()\n",
    "        self.level = self.level + 1\n",
    "        if self.level%self.evolve == 0:\n",
    "            return self.level, \"Evolved!\"\n",
    "        else:\n",
    "            return self.level"
   ]
  },
  {
   "cell_type": "code",
   "execution_count": 8,
   "id": "50d89e13",
   "metadata": {},
   "outputs": [
    {
     "name": "stdout",
     "output_type": "stream",
     "text": [
      "Pokemon name: Bulby, Type: Grass, Level: 5\n",
      "Pokemon name: Pika, Type: Grass, Level: 5\n",
      "Pokemon name: Pika, Type: Grass, Level: 6\n"
     ]
    }
   ],
   "source": [
    "p2 = Grass_Pokemon(\"Bulby\")\n",
    "p3 = Grass_Pokemon(\"Pika\")\n",
    "print(p2)\n",
    "print(p3)\n",
    "p3.train()\n",
    "print(p3)"
   ]
  },
  {
   "cell_type": "markdown",
   "id": "58ac5297",
   "metadata": {},
   "source": [
    "---\n",
    "## Question-4\n",
    "\n",
    "Along with the `Pokemon` parent class, we have also provided several subclasses. Write another method in the parent class that will be inherited by the subclasses. Call it `opponent` . It should return which type of `Pokemon` the current type is weak and strong against, as a tuple: \n",
    "* `Grass` is weak against `Fire` and strong against `Water`. \n",
    "* `Ghost` is weak against `Dark` and strong against `Psychic`. \n",
    "* `Fire` is weak against `Water` and strong against `Grass`. \n",
    "* `Flying` is weak against `Electric` and strong against `Fighting`. \n",
    "\n",
    "For example, if the `p_type` of the subclass is 'Grass' , `.opponent()` should return the tuple `('Fire', 'Water')` "
   ]
  },
  {
   "cell_type": "code",
   "execution_count": 9,
   "id": "16bc6cfe",
   "metadata": {},
   "outputs": [],
   "source": [
    "class Pokemon():\n",
    "    attack = 12\n",
    "    defense = 10\n",
    "    health = 15\n",
    "    p_type = \"Normal\"\n",
    "\n",
    "    def __init__(self, name,level = 5):\n",
    "        self.name = name\n",
    "        self.level = level\n",
    "        self.weak = \"Normal\"\n",
    "        self.strong = \"Normal\"\n",
    "\n",
    "    def train(self):\n",
    "        self.update()\n",
    "        self.attack_up()\n",
    "        self.defense_up()\n",
    "        self.health_up()\n",
    "        self.level = self.level + 1\n",
    "        if self.level%self.evolve == 0:\n",
    "            return self.level, \"Evolved!\"\n",
    "        else:\n",
    "            return self.level\n",
    "\n",
    "    def attack_up(self):\n",
    "        self.attack = self.attack + self.attack_boost\n",
    "        return self.attack\n",
    "\n",
    "    def defense_up(self):\n",
    "        self.defense = self.defense + self.defense_boost\n",
    "        return self.defense\n",
    "\n",
    "    def health_up(self):\n",
    "        self.health = self.health + self.health_boost\n",
    "        return self.health\n",
    "\n",
    "    def update(self):\n",
    "        self.health_boost = 5\n",
    "        self.attack_boost = 3\n",
    "        self.defense_boost = 2\n",
    "        self.evolve = 10\n",
    "\n",
    "    def __str__(self):\n",
    "        self.update()\n",
    "        return \"Pokemon name: {}, Type: {}, Level: {}\".format(self.name, self.p_type, self.level)\n",
    "    \n",
    "    def opponent(self):\n",
    "        if self.p_type=='Grass':\n",
    "            return ('Fire','Water')\n",
    "        elif self.p_type=='Ghost':\n",
    "            return ('Dark','Psychic')\n",
    "        elif self.p_type=='Fire':\n",
    "            return ('Water','Grass')\n",
    "        elif self.p_type=='Flying':\n",
    "            return ('Electric','Fighting')\n",
    "\n",
    "\n",
    "    \n",
    "    \n",
    "class Grass_Pokemon(Pokemon):\n",
    "    attack = 15\n",
    "    defense = 14\n",
    "    health = 12\n",
    "    p_type = \"Grass\"\n",
    "\n",
    "    def update(self):\n",
    "        self.health_boost = 6\n",
    "        self.attack_boost = 2\n",
    "        self.defense_boost = 3\n",
    "        self.evolve = 12\n",
    "\n",
    "class Ghost_Pokemon(Pokemon):\n",
    "    p_type = \"Ghost\"\n",
    "\n",
    "    def update(self):\n",
    "        self.health_boost = 3\n",
    "        self.attack_boost = 4\n",
    "        self.defense_boost = 3\n",
    "\n",
    "class Fire_Pokemon(Pokemon):\n",
    "    p_type = \"Fire\"\n",
    "\n",
    "class Flying_Pokemon(Pokemon):\n",
    "    p_type = \"Flying\""
   ]
  },
  {
   "cell_type": "code",
   "execution_count": 11,
   "id": "402cf3a6",
   "metadata": {},
   "outputs": [
    {
     "name": "stdout",
     "output_type": "stream",
     "text": [
      "Pokemon name: Belly, Type: Grass, Level: 5\n"
     ]
    },
    {
     "data": {
      "text/plain": [
       "('Fire', 'Water')"
      ]
     },
     "execution_count": 11,
     "metadata": {},
     "output_type": "execute_result"
    }
   ],
   "source": [
    "p = Grass_Pokemon(\"Belly\")\n",
    "print(p)\n",
    "p.opponent()"
   ]
  }
 ],
 "metadata": {
  "kernelspec": {
   "display_name": "Python 3 (ipykernel)",
   "language": "python",
   "name": "python3"
  },
  "language_info": {
   "codemirror_mode": {
    "name": "ipython",
    "version": 3
   },
   "file_extension": ".py",
   "mimetype": "text/x-python",
   "name": "python",
   "nbconvert_exporter": "python",
   "pygments_lexer": "ipython3",
   "version": "3.12.2"
  }
 },
 "nbformat": 4,
 "nbformat_minor": 5
}
