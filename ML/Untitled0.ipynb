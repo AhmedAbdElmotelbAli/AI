{
  "nbformat": 4,
  "nbformat_minor": 0,
  "metadata": {
    "colab": {
      "provenance": []
    },
    "kernelspec": {
      "name": "python3",
      "display_name": "Python 3"
    },
    "language_info": {
      "name": "python"
    }
  },
  "cells": [
    {
      "cell_type": "code",
      "execution_count": 27,
      "metadata": {
        "colab": {
          "base_uri": "https://localhost:8080/"
        },
        "id": "Lj1ezffskwES",
        "outputId": "ac83bf2b-ff84-42a8-c7c1-2888b9ed1726"
      },
      "outputs": [
        {
          "output_type": "stream",
          "name": "stdout",
          "text": [
            "37784662.46621314\n",
            "5161.328710400183\n",
            "0.9414466227178214\n",
            "0.06647907533756252\n"
          ]
        }
      ],
      "source": [
        "import numpy as py\n",
        "import pandas as pd\n",
        "df = pd.read_csv('Salary_Data.csv')\n",
        "df.head()\n",
        "x = df.iloc[:,:-1].values\n",
        "y = df.iloc[:,-1].values\n",
        "from sklearn.model_selection import train_test_split\n",
        "x_train ,x_test ,y_train ,y_test =train_test_split(x,y,test_size=0.30,random_state=42)\n",
        "from sklearn.linear_model import LinearRegression\n",
        "lr=LinearRegression().fit(x_train,y_train)\n",
        "y_pred = lr.predict(x_test)\n",
        "from sklearn.metrics import r2_score,mean_squared_error,mean_absolute_error,mean_absolute_percentage_error\n",
        "print(mean_squared_error(y_test,y_pred))\n",
        "print(mean_absolute_error(y_test,y_pred))\n",
        "print(r2_score(y_test,y_pred))\n",
        "print(mean_absolute_percentage_error(y_test,y_pred))\n"
      ]
    },
    {
      "cell_type": "code",
      "source": [
        "# Import necessary libraries\n",
        "import numpy as np  # Changed 'py' to 'np' for numpy as it's a common convention\n",
        "import pandas as pd\n",
        "from sklearn.preprocessing import OneHotEncoder, StandardScaler\n",
        "from sklearn.compose import ColumnTransformer\n",
        "from sklearn.model_selection import train_test_split\n",
        "from sklearn.linear_model import LinearRegression\n",
        "from sklearn.metrics import r2_score, mean_squared_error, mean_absolute_error, mean_absolute_percentage_error\n",
        "\n",
        "# Load the dataset\n",
        "df = pd.read_csv('50_Startups.csv')\n",
        "\n",
        "# Display the first few rows of the dataframe\n",
        "print(df.head())\n",
        "\n",
        "# Separate features and target variable\n",
        "x = df.iloc[:, :-1].values  # Features (all columns except the last one)\n",
        "y = df.iloc[:, -1].values   # Target variable (the last column)\n",
        "\n",
        "# Encode categorical features\n",
        "ct = ColumnTransformer(\n",
        "    transformers=[('encoder', OneHotEncoder(), [3])],  # Apply OneHotEncoder to the 4th column (index 3)\n",
        "    remainder='passthrough'  # Leave other columns unchanged\n",
        ")\n",
        "x = ct.fit_transform(x)\n",
        "xx=x[:,0:7 ]\n",
        "\n",
        "# Standardize the features\n",
        "sc = StandardScaler()\n",
        "xx = sc.fit_transform(xx)\n",
        "\n",
        "# Split the data into training and testing sets\n",
        "x_train, x_test, y_train, y_test = train_test_split(xx, y, test_size=0.3, random_state=42)\n",
        "\n",
        "# Train the Linear Regression model\n",
        "lr = LinearRegression().fit(x_train, y_train)\n",
        "\n",
        "# Make predictions on the test set\n",
        "y_pred = lr.predict(x_test)\n",
        "\n",
        "# Evaluate the model\n",
        "print(\"Mean Squared Error:\", mean_squared_error(y_test, y_pred))\n",
        "print(\"Mean Absolute Error:\", mean_absolute_error(y_test, y_pred))\n",
        "print(\"R2 Score:\", r2_score(y_test, y_pred))\n",
        "print(\"Mean Absolute Percentage Error:\", mean_absolute_percentage_error(y_test, y_pred))\n"
      ],
      "metadata": {
        "colab": {
          "base_uri": "https://localhost:8080/"
        },
        "id": "v_XOT518utYM",
        "outputId": "00f04c30-14c3-48da-a80e-c67bd955a77d"
      },
      "execution_count": 33,
      "outputs": [
        {
          "output_type": "stream",
          "name": "stdout",
          "text": [
            "   R&D Spend  Administration  Marketing Spend       State     Profit\n",
            "0  165349.20       136897.80        471784.10    New York  192261.83\n",
            "1  162597.70       151377.59        443898.53  California  191792.06\n",
            "2  153441.51       101145.55        407934.54     Florida  191050.39\n",
            "3  144372.41       118671.85        383199.62    New York  182901.99\n",
            "4  142107.34        91391.77        366168.42     Florida  166187.94\n",
            "Mean Squared Error: 84826955.035334\n",
            "Mean Absolute Error: 7395.433531523905\n",
            "R2 Score: 0.9397108063355787\n",
            "Mean Absolute Percentage Error: 0.08929865344173579\n"
          ]
        }
      ]
    },
    {
      "cell_type": "code",
      "source": [
        "# Import necessary libraries\n",
        "import numpy as np  # Use 'np' for numpy\n",
        "import pandas as pd\n",
        "from sklearn.preprocessing import OneHotEncoder, StandardScaler, PolynomialFeatures\n",
        "from sklearn.compose import ColumnTransformer\n",
        "from sklearn.model_selection import train_test_split\n",
        "from sklearn.linear_model import LinearRegression\n",
        "from sklearn.metrics import r2_score, mean_squared_error, mean_absolute_error, mean_absolute_percentage_error\n",
        "\n",
        "# Load the dataset\n",
        "df = pd.read_csv('50_Startups.csv')\n",
        "\n",
        "# Display the first few rows of the dataframe\n",
        "print(df.head())\n",
        "\n",
        "# Separate features and target variable\n",
        "x = df.iloc[:, :-1].values  # Features (all columns except the last one)\n",
        "y = df.iloc[:, -1].values   # Target variable (the last column)\n",
        "\n",
        "# Encode categorical features\n",
        "ct = ColumnTransformer(\n",
        "    transformers=[('encoder', OneHotEncoder(), [3])],  # Apply OneHotEncoder to the 4th column (index 3)\n",
        "    remainder='passthrough'  # Leave other columns unchanged\n",
        ")\n",
        "x = ct.fit_transform(x)\n",
        "xx=x[:,0:7 ]\n",
        "# Create polynomial features\n",
        "poly = PolynomialFeatures(degree=6)  # Create polynomial features of degree 2\n",
        "x_poly = poly.fit_transform(xx)  # Transform the features\n",
        "\n",
        "# Standardize the features\n",
        "sc = StandardScaler()\n",
        "x_poly = sc.fit_transform(x_poly)  # Standardize the polynomial features\n",
        "\n",
        "# Split the data into training and testing sets\n",
        "x_train, x_test, y_train, y_test = train_test_split(x_poly, y, test_size=0.35, random_state=42)\n",
        "\n",
        "# Train the Linear Regression model\n",
        "lr = LinearRegression().fit(x_train, y_train)\n",
        "\n",
        "# Make predictions on the test set\n",
        "y_pred = lr.predict(x_test)\n",
        "\n",
        "# Evaluate the model\n",
        "print(\"Mean Squared Error:\", mean_squared_error(y_test, y_pred))\n",
        "print(\"Mean Absolute Error:\", mean_absolute_error(y_test, y_pred))\n",
        "print(\"R2 Score:\", r2_score(y_test, y_pred))\n",
        "print(\"Mean Absolute Percentage Error:\", mean_absolute_percentage_error(y_test, y_pred))\n"
      ],
      "metadata": {
        "colab": {
          "base_uri": "https://localhost:8080/"
        },
        "id": "5lTrcyEP2Pcb",
        "outputId": "d6fbda04-54d8-45ed-fdaf-1f0500e8791a"
      },
      "execution_count": 40,
      "outputs": [
        {
          "output_type": "stream",
          "name": "stdout",
          "text": [
            "   R&D Spend  Administration  Marketing Spend       State     Profit\n",
            "0  165349.20       136897.80        471784.10    New York  192261.83\n",
            "1  162597.70       151377.59        443898.53  California  191792.06\n",
            "2  153441.51       101145.55        407934.54     Florida  191050.39\n",
            "3  144372.41       118671.85        383199.62    New York  182901.99\n",
            "4  142107.34        91391.77        366168.42     Florida  166187.94\n",
            "Mean Squared Error: 726440437.1383508\n",
            "Mean Absolute Error: 21184.581782132063\n",
            "R2 Score: 0.5353876694009497\n",
            "Mean Absolute Percentage Error: 0.2415916444971201\n"
          ]
        }
      ]
    },
    {
      "cell_type": "code",
      "source": [
        "# Import necessary libraries\n",
        "import numpy as np\n",
        "import pandas as pd\n",
        "from sklearn.preprocessing import StandardScaler, OneHotEncoder\n",
        "from sklearn.compose import ColumnTransformer\n",
        "from sklearn.model_selection import train_test_split\n",
        "from sklearn.linear_model import LogisticRegression\n",
        "from sklearn.metrics import accuracy_score, confusion_matrix, classification_report\n",
        "from sklearn.decomposition import PCA\n",
        "\n",
        "\n",
        "# Load the dataset\n",
        "df = pd.read_csv('Social_Network_Ads.csv')\n",
        "\n",
        "# Display the first few rows of the dataframe\n",
        "print(df.head())\n",
        "\n",
        "# Separate features and target variable\n",
        "x = df.iloc[:, 1:-1].values  # Features (all columns except the last one)\n",
        "y = df.iloc[:, -1].values   # Target variable (the last column)\n",
        "\n",
        "# Encode categorical features (assuming there is a categorical feature)\n",
        "ct = ColumnTransformer(\n",
        "    transformers=[('encoder', OneHotEncoder(), [0])],  # Adjust the indices to match categorical columns\n",
        "    remainder='passthrough'\n",
        ")\n",
        "x = ct.fit_transform(x)\n",
        "\n",
        "# Standardize the features\n",
        "sc = StandardScaler()\n",
        "x = sc.fit_transform(x)\n",
        "pca = PCA(n_components=3)  # Reducing to 2 components for visualization, adjust as needed\n",
        "x_pca = pca.fit_transform(x)\n",
        "# Split the data into training and testing sets\n",
        "x_train, x_test, y_train, y_test = train_test_split(x_pca, y, test_size=0.3, random_state=42)\n",
        "\n",
        "# Train the Logistic Regression model\n",
        "lr = LogisticRegression()\n",
        "lr.fit(x_train, y_train)\n",
        "\n",
        "# Make predictions on the test set\n",
        "y_pred = lr.predict(x_test)\n",
        "\n",
        "# Evaluate the model\n",
        "print(\"Accuracy Score:\", accuracy_score(y_test, y_pred))\n",
        "print(\"Confusion Matrix:\\n\", confusion_matrix(y_test, y_pred))\n",
        "lr.predict(sc.fit_transform([[1,19,19000]]))"
      ],
      "metadata": {
        "colab": {
          "base_uri": "https://localhost:8080/"
        },
        "id": "uhP34sJ7DizP",
        "outputId": "4b63e12a-5725-4b65-e85e-e4f839451222"
      },
      "execution_count": 54,
      "outputs": [
        {
          "output_type": "stream",
          "name": "stdout",
          "text": [
            "    User ID  Gender  Age  EstimatedSalary  Purchased\n",
            "0  15624510    Male   19            19000          0\n",
            "1  15810944    Male   35            20000          0\n",
            "2  15668575  Female   26            43000          0\n",
            "3  15603246  Female   27            57000          0\n",
            "4  15804002    Male   19            76000          0\n",
            "Accuracy Score: 0.8583333333333333\n",
            "Confusion Matrix:\n",
            " [[71  2]\n",
            " [15 32]]\n"
          ]
        },
        {
          "output_type": "execute_result",
          "data": {
            "text/plain": [
              "array([0])"
            ]
          },
          "metadata": {},
          "execution_count": 54
        }
      ]
    },
    {
      "cell_type": "code",
      "source": [
        "# Import necessary libraries\n",
        "import numpy as np\n",
        "import pandas as pd\n",
        "from sklearn.preprocessing import StandardScaler, OneHotEncoder\n",
        "from sklearn.compose import ColumnTransformer\n",
        "from sklearn.model_selection import train_test_split\n",
        "from sklearn.svm import SVC\n",
        "from sklearn.metrics import accuracy_score, confusion_matrix, classification_report\n",
        "from sklearn.decomposition import PCA\n",
        "\n",
        "\n",
        "# Load the dataset\n",
        "df = pd.read_csv('Social_Network_Ads.csv')\n",
        "\n",
        "# Display the first few rows of the dataframe\n",
        "print(df.head())\n",
        "\n",
        "# Separate features and target variable\n",
        "x = df.iloc[:, 1:-1].values  # Features (all columns except the last one)\n",
        "y = df.iloc[:, -1].values   # Target variable (the last column)\n",
        "\n",
        "# Encode categorical features (assuming there is a categorical feature)\n",
        "ct = ColumnTransformer(\n",
        "    transformers=[('encoder', OneHotEncoder(), [0])],  # Adjust the indices to match categorical columns\n",
        "    remainder='passthrough'\n",
        ")\n",
        "x = ct.fit_transform(x)\n",
        "\n",
        "# Standardize the features\n",
        "sc = StandardScaler()\n",
        "x = sc.fit_transform(x)\n",
        "pca = PCA(n_components=3)  # Reducing to 2 components for visualization, adjust as needed\n",
        "x_pca = pca.fit_transform(x)\n",
        "# Split the data into training and testing sets\n",
        "x_train, x_test, y_train, y_test = train_test_split(x_pca, y, test_size=0.1, random_state=0)\n",
        "\n",
        "# Train the Logistic Regression model\n",
        "sv = SVC(kernel='linear')\n",
        "sv.fit(x_train, y_train)\n",
        "\n",
        "# Make predictions on the test set\n",
        "y_pred = sv.predict(x_test)\n",
        "\n",
        "# Evaluate the model\n",
        "print(\"Accuracy Score:\", accuracy_score(y_test, y_pred))\n",
        "print(\"Confusion Matrix:\\n\", confusion_matrix(y_test, y_pred))\n",
        "sv.predict(sc.fit_transform([[1,19,19000]]))"
      ],
      "metadata": {
        "colab": {
          "base_uri": "https://localhost:8080/"
        },
        "id": "jYAiOtPQMD48",
        "outputId": "435b8e47-cf2e-4ee0-b027-3439af8c5121"
      },
      "execution_count": 58,
      "outputs": [
        {
          "output_type": "stream",
          "name": "stdout",
          "text": [
            "    User ID  Gender  Age  EstimatedSalary  Purchased\n",
            "0  15624510    Male   19            19000          0\n",
            "1  15810944    Male   35            20000          0\n",
            "2  15668575  Female   26            43000          0\n",
            "3  15603246  Female   27            57000          0\n",
            "4  15804002    Male   19            76000          0\n",
            "Accuracy Score: 0.95\n",
            "Confusion Matrix:\n",
            " [[32  0]\n",
            " [ 2  6]]\n"
          ]
        },
        {
          "output_type": "execute_result",
          "data": {
            "text/plain": [
              "array([0])"
            ]
          },
          "metadata": {},
          "execution_count": 58
        }
      ]
    },
    {
      "cell_type": "code",
      "source": [
        "# Import necessary libraries\n",
        "import numpy as np\n",
        "import pandas as pd\n",
        "from sklearn.preprocessing import StandardScaler, OneHotEncoder\n",
        "from sklearn.compose import ColumnTransformer\n",
        "from sklearn.model_selection import train_test_split\n",
        "from sklearn.neighbors import KNeighborsClassifier\n",
        "from sklearn.metrics import accuracy_score, confusion_matrix, classification_report\n",
        "from sklearn.decomposition import PCA\n",
        "\n",
        "\n",
        "# Load the dataset\n",
        "df = pd.read_csv('Social_Network_Ads.csv')\n",
        "\n",
        "# Display the first few rows of the dataframe\n",
        "print(df.head())\n",
        "\n",
        "# Separate features and target variable\n",
        "x = df.iloc[:, 1:-1].values  # Features (all columns except the last one)\n",
        "y = df.iloc[:, -1].values   # Target variable (the last column)\n",
        "\n",
        "# Encode categorical features (assuming there is a categorical feature)\n",
        "ct = ColumnTransformer(\n",
        "    transformers=[('encoder', OneHotEncoder(), [0])],  # Adjust the indices to match categorical columns\n",
        "    remainder='passthrough'\n",
        ")\n",
        "x = ct.fit_transform(x)\n",
        "\n",
        "# Standardize the features\n",
        "sc = StandardScaler()\n",
        "x = sc.fit_transform(x)\n",
        "pca = PCA(n_components=3)  # Reducing to 2 components for visualization, adjust as needed\n",
        "x_pca = pca.fit_transform(x)\n",
        "# Split the data into training and testing sets\n",
        "x_train, x_test, y_train, y_test = train_test_split(x_pca, y, test_size=0.1, random_state=0)\n",
        "\n",
        "# Train the Logistic Regression model\n",
        "knn = KNeighborsClassifier(n_neighbors=4, metric='minkowski', p=2)\n",
        "knn = knn.fit(x_train, y_train)\n",
        "\n",
        "# Make predictions on the test set\n",
        "y_pred = knn.predict(x_test)\n",
        "\n",
        "# Evaluate the model\n",
        "print(\"Accuracy Score:\", accuracy_score(y_test, y_pred))\n",
        "print(\"Confusion Matrix:\\n\", confusion_matrix(y_test, y_pred))\n",
        "knn.predict(sc.fit_transform([[1,19,19000]]))"
      ],
      "metadata": {
        "colab": {
          "base_uri": "https://localhost:8080/"
        },
        "id": "XpPqLJACRxFD",
        "outputId": "9c8f93c9-a4e0-49d3-eec6-76f41790210c"
      },
      "execution_count": 59,
      "outputs": [
        {
          "output_type": "stream",
          "name": "stdout",
          "text": [
            "    User ID  Gender  Age  EstimatedSalary  Purchased\n",
            "0  15624510    Male   19            19000          0\n",
            "1  15810944    Male   35            20000          0\n",
            "2  15668575  Female   26            43000          0\n",
            "3  15603246  Female   27            57000          0\n",
            "4  15804002    Male   19            76000          0\n",
            "Accuracy Score: 0.95\n",
            "Confusion Matrix:\n",
            " [[31  1]\n",
            " [ 1  7]]\n"
          ]
        },
        {
          "output_type": "execute_result",
          "data": {
            "text/plain": [
              "array([0])"
            ]
          },
          "metadata": {},
          "execution_count": 59
        }
      ]
    },
    {
      "cell_type": "code",
      "source": [
        "# Import necessary libraries\n",
        "import numpy as np\n",
        "import pandas as pd\n",
        "from sklearn.preprocessing import StandardScaler, OneHotEncoder\n",
        "from sklearn.compose import ColumnTransformer\n",
        "from sklearn.model_selection import train_test_split\n",
        "from sklearn.naive_bayes import GaussianNB\n",
        "from sklearn.metrics import accuracy_score, confusion_matrix, classification_report\n",
        "from sklearn.decomposition import PCA\n",
        "\n",
        "\n",
        "# Load the dataset\n",
        "df = pd.read_csv('Social_Network_Ads.csv')\n",
        "\n",
        "# Display the first few rows of the dataframe\n",
        "print(df.head())\n",
        "\n",
        "# Separate features and target variable\n",
        "x = df.iloc[:, 1:-1].values  # Features (all columns except the last one)\n",
        "y = df.iloc[:, -1].values   # Target variable (the last column)\n",
        "\n",
        "# Encode categorical features (assuming there is a categorical feature)\n",
        "ct = ColumnTransformer(\n",
        "    transformers=[('encoder', OneHotEncoder(), [0])],  # Adjust the indices to match categorical columns\n",
        "    remainder='passthrough'\n",
        ")\n",
        "x = ct.fit_transform(x)\n",
        "\n",
        "# Standardize the features\n",
        "sc = StandardScaler()\n",
        "x = sc.fit_transform(x)\n",
        "pca = PCA(n_components=3)  # Reducing to 2 components for visualization, adjust as needed\n",
        "x_pca = pca.fit_transform(x)\n",
        "# Split the data into training and testing sets\n",
        "x_train, x_test, y_train, y_test = train_test_split(x_pca, y, test_size=0.1, random_state=0)\n",
        "\n",
        "# Train the Logistic Regression model\n",
        "np = GaussianNB()\n",
        "np = np.fit(x_train, y_train)\n",
        "\n",
        "# Make predictions on the test set\n",
        "y_pred = np.predict(x_test)\n",
        "\n",
        "# Evaluate the model\n",
        "print(\"Accuracy Score:\", accuracy_score(y_test, y_pred))\n",
        "print(\"Confusion Matrix:\\n\", confusion_matrix(y_test, y_pred))\n",
        "np.predict(sc.fit_transform([[1,19,19000]]))"
      ],
      "metadata": {
        "colab": {
          "base_uri": "https://localhost:8080/"
        },
        "id": "gXYYakbqXM8r",
        "outputId": "b824f774-9462-46ce-cc13-913b09c04325"
      },
      "execution_count": 68,
      "outputs": [
        {
          "output_type": "stream",
          "name": "stdout",
          "text": [
            "    User ID  Gender  Age  EstimatedSalary  Purchased\n",
            "0  15624510    Male   19            19000          0\n",
            "1  15810944    Male   35            20000          0\n",
            "2  15668575  Female   26            43000          0\n",
            "3  15603246  Female   27            57000          0\n",
            "4  15804002    Male   19            76000          0\n",
            "Accuracy Score: 0.925\n",
            "Confusion Matrix:\n",
            " [[30  2]\n",
            " [ 1  7]]\n"
          ]
        },
        {
          "output_type": "execute_result",
          "data": {
            "text/plain": [
              "array([0])"
            ]
          },
          "metadata": {},
          "execution_count": 68
        }
      ]
    }
  ]
}