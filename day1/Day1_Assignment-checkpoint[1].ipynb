{
 "cells": [
  {
   "cell_type": "markdown",
   "id": "549348c4",
   "metadata": {},
   "source": [
    "# Collections, loops and if-conditions:"
   ]
  },
  {
   "cell_type": "code",
   "execution_count": 34,
   "id": "8ee32227",
   "metadata": {},
   "outputs": [
    {
     "name": "stdout",
     "output_type": "stream",
     "text": [
      "False\n",
      "True\n",
      "True\n"
     ]
    }
   ],
   "source": [
    "L = [[5, 8, 7], ['hello', 'hi', 'hola'], [6.6, 1.54, 3.99], ['small', 'large']]\n",
    "\n",
    "# Test if 'hola' is in the list L. Save to variable name test1\n",
    "test1='hola' in L\n",
    "print(test1)\n",
    "# Test if [5, 8, 7] is in the list L. Save to variable name test2\n",
    "test2=[5, 8, 7] in L\n",
    "print(test2)\n",
    "# Test if 6.6 is in the third element of list L. Save to variable name test3\n",
    "test3=6.6 in L[2]\n",
    "print(test3)\n",
    "\n",
    "\n",
    "# OUtput\n",
    "# False\n",
    "# True\n",
    "# True\n"
   ]
  },
  {
   "cell_type": "code",
   "execution_count": 35,
   "id": "80c593b0",
   "metadata": {},
   "outputs": [
    {
     "name": "stdout",
     "output_type": "stream",
     "text": [
      "False\n",
      "False\n",
      "False\n"
     ]
    }
   ],
   "source": [
    "nested = {'data': ['finding', 23, ['exercises', 'hangout', 34]], 'window': ['part', 'whole', [], 'sum', ['math', 'calculus', 'algebra', 'geometry', 'statistics',\n",
    "                                                                                                         ['physics', 'chemistry', 'biology']]]}\n",
    "\n",
    "# Check to see if the string data is a key in nested, if it is, assign True to the variable data, otherwise assign False.\n",
    "data='data' in nested\n",
    "\n",
    "# Check to see if the integer 24 is in the value of the key data, if it is then assign to the variable twentyfour the value of True, otherwise False.\n",
    "twentyfour=24 in nested['data'] or 24 in nested['window']\n",
    "print(twentyfour)    \n",
    "\n",
    "# Check to see that the string 'whole' is not in the value of the key window. If it's not, then assign to the variable whole the value of True, otherwise False.\n",
    "li=nested['window']\n",
    "whole= 'whole' not in li\n",
    "print(whole)\n",
    "\n",
    "# Check to see if the string 'physics' is a key in the dictionary nested. If it is, assign to the variable physics, the value of True, otherwise False.\n",
    "physics= 'physics' in nested\n",
    "print(physics)\n",
    "\n",
    "\n",
    "# Output\n",
    "# False\n",
    "# False\n",
    "# False"
   ]
  },
  {
   "cell_type": "code",
   "execution_count": 36,
   "id": "2515ded0",
   "metadata": {},
   "outputs": [
    {
     "name": "stdout",
     "output_type": "stream",
     "text": [
      "backstroke\n",
      "platform\n",
      "['vault', 'floor', 'uneven bars', 'balance beam']\n",
      "rings\n"
     ]
    }
   ],
   "source": [
    "sports = {'swimming': ['butterfly', 'breaststroke', 'backstroke', 'freestyle'], 'diving': ['springboard', 'platform', 'synchronized'], \n",
    "          'track': ['sprint', 'distance', 'jumps', 'throws'], 'gymnastics': {'women':['vault', 'floor', 'uneven bars', 'balance beam'], \n",
    "                                                                             'men': ['vault', 'parallel bars', 'floor', 'rings']}}\n",
    "\n",
    "# Assign the string 'backstroke' to the variable name v1\n",
    "v1=sports['swimming'][2]\n",
    "print(v1)\n",
    "\n",
    "# Assign the string 'platform' to the variable name v2\n",
    "v2=sports['diving'][1]\n",
    "print(v2)\n",
    "\n",
    "# Assign the list ['vault', 'floor', 'uneven bars', 'balance beam'] to the variable name v3\n",
    "v3=sports['gymnastics']['women']\n",
    "print(v3)\n",
    "\n",
    "# Assign the string 'rings' to the variable name v4\n",
    "v4=sports['gymnastics']['men'][3]\n",
    "print(v4)\n",
    "\n",
    "\n",
    "# Output\n",
    "# backstroke\n",
    "# platform\n",
    "# ['vault', 'floor', 'uneven bars', 'balance beam']\n",
    "# rings\n"
   ]
  },
  {
   "cell_type": "code",
   "execution_count": 37,
   "id": "da9948f1",
   "metadata": {},
   "outputs": [
    {
     "name": "stdout",
     "output_type": "stream",
     "text": [
      "[36, 46, 35]\n"
     ]
    }
   ],
   "source": [
    "# Given the dictionary `nested_d`, save the medal count for the USA from all three Olympics in the dictionary to the list `us_count`\n",
    "\n",
    "\n",
    "nested_d = {'Beijing':{'China':51, 'USA':36, 'Russia':22, 'Great Britain':19}, 'London':{'USA':46, 'China':38, 'Great Britain':29, 'Russia':22}, \n",
    "            'Rio':{'USA':35, 'Great Britain':22, 'China':20, 'Germany':13}}\n",
    "\n",
    "us_count = []\n",
    "\n",
    "\n",
    "US_count = []\n",
    "for key in nested_d:\n",
    "    if 'USA' in nested_d[key]:\n",
    "        US_count.append(nested_d[key]['USA'])\n",
    "print(US_count)   \n",
    "\n",
    "\n",
    "# OUtput \n",
    "# [36, 46, 35]"
   ]
  },
  {
   "cell_type": "code",
   "execution_count": 15,
   "id": "3fd6f734",
   "metadata": {},
   "outputs": [],
   "source": [
    "# The same as before but figure out what is the difference and how to do it!!!\n",
    "\n",
    "\n",
    "nested_d = {'Beijing':[('China', 51), ('USA', 36), ('Russia', 22), ('Great Britain', 19)], 'London':{'USA':46, 'China':38, 'Great Britain':29, 'Russia':22}, \n",
    "            'Rio':\"\"\"USA=35, Great_Britain=22, China=20, Germany=13\"\"\"}\n",
    "\n",
    "us_count = []"
   ]
  },
  {
   "cell_type": "code",
   "execution_count": 38,
   "id": "4a71a5a8",
   "metadata": {},
   "outputs": [
    {
     "name": "stdout",
     "output_type": "stream",
     "text": [
      "['Lochte', 'Bolt', 'Eaton', 'Dalton']\n",
      "['Phelps', 'Schooling', 'Ledecky', 'Franklin', 'Felix', 'Gardner', 'Biles', 'Douglas', 'Hamm', 'Raisman', 'Mikulak']\n"
     ]
    }
   ],
   "source": [
    "# Given below is a list of lists of athletes. Create a list `t`, that saves only the athlete's name if it contains the letter \"t\"\n",
    "# If it doesn't contain the letter \"t\", save the athlete name into list `other`.\n",
    "\n",
    "\n",
    "athletes = [['Phelps', 'Lochte', 'Schooling', 'Ledecky', 'Franklin'], ['Felix', 'Bolt', 'Gardner', 'Eaton'], ['Biles', 'Douglas', 'Hamm', 'Raisman', 'Mikulak', 'Dalton']]\n",
    "\n",
    "\n",
    "t=[]\n",
    "other=[]\n",
    "for lists in athletes:\n",
    "    for athlete in lists:\n",
    "        if 't' in athlete:\n",
    "            t.append(athlete)\n",
    "        else:\n",
    "            other.append(athlete)\n",
    "print(t)\n",
    "print(other)\n",
    "\n",
    "# output\n",
    "# ['Lochte', 'Bolt', 'Eaton', 'Dalton']\n",
    "# ['Phelps', 'Schooling', 'Ledecky', 'Franklin', 'Felix', 'Gardner', 'Biles', 'Douglas', 'Hamm', 'Raisman', 'Mikulak']\n"
   ]
  },
  {
   "cell_type": "markdown",
   "id": "10a4e967",
   "metadata": {},
   "source": [
    "## Let's level up\n",
    "* List comprehension and lambda function\n",
    "* functional programming (map, filter, reduce)"
   ]
  },
  {
   "cell_type": "code",
   "execution_count": 26,
   "id": "e84d6938",
   "metadata": {},
   "outputs": [
    {
     "name": "stdout",
     "output_type": "stream",
     "text": [
      "['Fruit: plums', 'Fruit: watermelon', 'Fruit: kiwi', 'Fruit: strawberries', 'Fruit: blueberries', 'Fruit: peaches', 'Fruit: apples', 'Fruit: mangos', 'Fruit: papaya']\n"
     ]
    }
   ],
   "source": [
    "# Write code to assign to the variable map_testing all the elements in lst_check \n",
    "# while adding the string \"Fruit\" to the beginning of each element usig mapping and lambda function\n",
    "\n",
    "\n",
    "lst_check = ['plums', 'watermelon', 'kiwi', 'strawberries', 'blueberries', 'peaches', 'apples', 'mangos', 'papaya']\n",
    "\n",
    "\n",
    "map_testing=list(map(lambda x:'Fruit: '+x,lst_check))\n",
    "print(map_testing)\n",
    "\n",
    "# output:\n",
    "# ['Fruit: plums', 'Fruit: watermelon', 'Fruit: kiwi', 'Fruit: strawberries', 'Fruit: blueberries', 'Fruit: peaches', \n",
    "# 'Fruit: apples', 'Fruit: mangos', 'Fruit: papaya']"
   ]
  },
  {
   "cell_type": "code",
   "execution_count": 27,
   "id": "3d6b5f05",
   "metadata": {},
   "outputs": [
    {
     "name": "stdout",
     "output_type": "stream",
     "text": [
      "['Brazil', 'Botswana', 'Britain', 'Bangladesh', 'Belarus', 'Belgium']\n"
     ]
    }
   ],
   "source": [
    "# Below, a list of countries, Use filter to produce a list called b_countries that only contains strings from countries list that begin with B\n",
    "\n",
    "\n",
    "countries = ['Canada', 'Mexico', 'Brazil', 'Chile', 'Denmark', 'Botswana', 'Spain', 'Britain', 'Portugal', 'Russia', 'Thailand', 'Bangladesh', 'Nigeria', \n",
    "             'Argentina', 'Belarus', 'Laos', 'Australia', 'Panama', 'Egypt', 'Morocco', 'Switzerland', 'Belgium']\n",
    "\n",
    "b_countries=list(filter(lambda x:x[0]=='B',countries))\n",
    "print(b_countries)\n",
    "\n",
    "# Output\n",
    "# ['Brazil', 'Botswana', 'Britain', 'Bangladesh', 'Belarus', 'Belgium']"
   ]
  },
  {
   "cell_type": "code",
   "execution_count": 29,
   "id": "96ad3d92",
   "metadata": {},
   "outputs": [
    {
     "name": "stdout",
     "output_type": "stream",
     "text": [
      "['Jon', 'Cersei', 'Arya', 'Robb', 'Jamie', 'Daenerys', 'Sansa', 'Margaery', 'Eddard', 'Tyrion', 'Joffrey', 'Ramsey', 'Peter']\n"
     ]
    }
   ],
   "source": [
    "# Below, a list of tuples contain the names of Game of Thrones characters. Using list comprehension, create a list of strings called \n",
    "# `first_names` that contains only the first names of everyone in the original list\n",
    "\n",
    "\n",
    "people = [('Snow', 'Jon'), ('Lannister', 'Cersei'), ('Stark', 'Arya'), ('Stark', 'Robb'), ('Lannister', 'Jamie'), ('Targaryen', 'Daenerys'), ('Stark', 'Sansa'), \n",
    "          ('Tyrell', 'Margaery'), ('Stark', 'Eddard'), ('Lannister', 'Tyrion'), ('Baratheon', 'Joffrey'), ('Bolton', 'Ramsey'), ('Baelish', 'Peter')]\n",
    "\n",
    "first_names=[tup[1] for tup in people]\n",
    "print(first_names)\n",
    "\n",
    "\n",
    "# Output\n",
    "# ['Jon', 'Cersei', 'Arya', 'Robb', 'Jamie', 'Daenerys', 'Sansa', 'Margaery', 'Eddard', 'Tyrion', 'Joffrey', 'Ramsey', 'Peter']\n"
   ]
  },
  {
   "cell_type": "code",
   "execution_count": 30,
   "id": "3e6c1ef1",
   "metadata": {},
   "outputs": [
    {
     "name": "stdout",
     "output_type": "stream",
     "text": [
      "['Tommy', 'Carl', 'Bob', 'Sue']\n"
     ]
    }
   ],
   "source": [
    "# Below, a list of tuples that contain students' names and their final grades, Using list comprehension, create a new list `passed`\n",
    "# that contains the names of students who passed the class (had a final grade of 70 or greater)\n",
    "\n",
    "\n",
    "students = [('Tommy', 95), ('Linda', 63), ('Carl', 70), ('Bob', 100), ('Raymond', 50), ('Sue', 75)]\n",
    "\n",
    "passed=[tup[0] for tup in students if tup[1]>=70]\n",
    "print(passed)\n",
    "\n",
    "\n",
    "# OUtput\n",
    "# ['Tommy', 'Carl', 'Bob', 'Sue']\n",
    "\n"
   ]
  },
  {
   "cell_type": "code",
   "execution_count": 31,
   "id": "3111d218",
   "metadata": {},
   "outputs": [
    {
     "name": "stdout",
     "output_type": "stream",
     "text": [
      "[('left', 'right'), ('front', 'back')]\n"
     ]
    }
   ],
   "source": [
    "# Write code using zip and filter so that these lists (l1, l2) are combined into one big list and assigned \n",
    "# to the variable `opposites` if they are both longer than 3 characters each.\n",
    "\n",
    "\n",
    "l1 = ['left', 'up', 'front']\n",
    "l2 = ['right', 'down', 'back']\n",
    "opposites=list(filter(lambda x:len(x[0])>3 and len(x[1]),zip(l1,l2)))\n",
    "print(opposites)\n",
    "\n",
    "\n",
    "# output\n",
    "# [('left', 'right'), ('front', 'back')]\n"
   ]
  },
  {
   "cell_type": "code",
   "execution_count": 32,
   "id": "beb5ff94",
   "metadata": {},
   "outputs": [
    {
     "name": "stdout",
     "output_type": "stream",
     "text": [
      "[('golden retriever', 10000), ('white tailed deer', 90000), ('black rhino', 1000), ('brown squirrel', 2000000), ('field mouse', 500000), ('orangutan', 500), ('sumatran elephant', 1200), ('rainbow trout', 8000), ('black bear', 12000), ('blue whale', 2300), ('water moccasin', 7500), ('giant panda', 100), ('green turtle', 1800), ('blue jay', 9500), ('japanese beetle', 125000)]\n",
      "['black rhino', 'orangutan', 'sumatran elephant', 'blue whale', 'giant panda', 'green turtle']\n"
     ]
    }
   ],
   "source": [
    "# Below two lists `species` and `population`. Use zip to combine these lists into one list of tuples called `pop_info`\n",
    "# From this list, create a new list called `endangered` that contains the names of specis whose populations are below 2500\n",
    "\n",
    "\n",
    "species = ['golden retriever', 'white tailed deer', 'black rhino', 'brown squirrel', 'field mouse', 'orangutan', 'sumatran elephant', 'rainbow trout', 'black bear', \n",
    "           'blue whale', 'water moccasin', 'giant panda', 'green turtle', 'blue jay', 'japanese beetle']\n",
    "\n",
    "population = [10000, 90000, 1000, 2000000, 500000, 500, 1200, 8000, 12000, 2300, 7500, 100, 1800, 9500, 125000]\n",
    "pop_info=list(zip(species,population))\n",
    "endangered=[tup[0] for tup in pop_info if tup[1]<2500]\n",
    "print(pop_info)\n",
    "print(endangered)\n",
    "\n",
    "# Output\n",
    "# pop_info -->  [('golden retriever', 10000), ('white tailed deer', 90000), ('black rhino', 1000), ('brown squirrel', 2000000), ('field mouse', 500000), ('orangutan', 500), ('sumatran elephant', 1200), ('rainbow trout', 8000), ('black bear', 12000), ('blue whale', 2300), ('water moccasin', 7500), ('giant panda', 100), ('green turtle', 1800), ('blue jay', 9500), ('japanese beetle', 125000)]\n",
    "# endangered --> ['black rhino', 'orangutan', 'sumatran elephant', 'blue whale', 'giant panda', 'green turtle']\n",
    "\n"
   ]
  },
  {
   "cell_type": "markdown",
   "id": "08f21076",
   "metadata": {},
   "source": [
    "---\n",
    "\n",
    "# Functions:\n",
    "\n",
    "### Question-1\n",
    "Write a function called check_nums that takes a list as its parameter, and contains a while loop that only stops once the element of the\n",
    "list is the number 7. What is returned is a list of all of the numbers up until it reaches 7.\n",
    "\n",
    "e.g; \\\n",
    "print(check_nums([0,2,4,9,2,3,6,8,12,14,7,9,10,8,3])) ==> [0, 2, 4, 9, 2, 3, 6, 8, 12, 14]"
   ]
  },
  {
   "cell_type": "code",
   "execution_count": 44,
   "id": "df27b02f",
   "metadata": {},
   "outputs": [],
   "source": [
    "def check_nums(lst):\n",
    "    li=[]\n",
    "    x=0\n",
    "    if 7 not in lst:\n",
    "        return lst\n",
    "    while(lst[x]!=7):\n",
    "        li.append(lst[x])\n",
    "        x+=1\n",
    "    return li"
   ]
  },
  {
   "cell_type": "markdown",
   "id": "93cde3bf",
   "metadata": {},
   "source": [
    "### Question-2\n",
    "Write a function, test, that takes in three parameters: a required integer, an optional boolean whose default value is True, and an \n",
    "optional dictionary, called dict1, whose default value is {2:3, 4:5, 6:8}. If the boolean parameter is True, the function should test to\n",
    "see if the integer is a key in the dictionary. The value of that key should then be returned. If the boolean parameter is False, return \n",
    "the boolean value “False”.\n",
    "\n",
    "e.g;   \n",
    "print(test(2)) ==> 3 \\\n",
    "print(test(4,False)) ==> False"
   ]
  },
  {
   "cell_type": "code",
   "execution_count": 43,
   "id": "a35ee0dd",
   "metadata": {},
   "outputs": [
    {
     "name": "stdout",
     "output_type": "stream",
     "text": [
      "3\n",
      "False\n"
     ]
    }
   ],
   "source": [
    "def test(num,bol=True,dict1={2:3, 4:5, 6:8}):\n",
    "    if bol==True:\n",
    "        if num in dict1:\n",
    "            return dict1[num]\n",
    "    else:\n",
    "        return False\n",
    "print(test(2)) # 3\n",
    "print(test(4,False)) # False"
   ]
  },
  {
   "cell_type": "markdown",
   "id": "4f38c63c",
   "metadata": {},
   "source": [
    "### Question-3:\n",
    "Write a function called `checkingIfIn` that takes three parameters. The first is a required parameter, which should be a string. The second\n",
    "is an optional parameter called `direction` with a default value of True. The third is an optional parameter called d that has a default \n",
    "value of {'apple': 2, 'pear': 1, 'fruit': 19, 'orange': 5, 'banana': 3, 'grapes': 2, 'watermelon': 7}. Write the function checkingIfIn \n",
    "so that when the second parameter is True, it checks to see if the first parameter is a key in the third parameter; if it is, return\n",
    "True, otherwise return False.\n",
    "But if the second paramter is False, then the function should check to see if the first parameter is not a key of the third. If it’s not,\n",
    "the function should return True in this case, and if it is, it should return False.\n",
    "\n",
    "e.g; \\\n",
    "print(checkingIfIn('grapes')) # True"
   ]
  },
  {
   "cell_type": "code",
   "execution_count": 42,
   "id": "8d14c16e",
   "metadata": {},
   "outputs": [
    {
     "name": "stdout",
     "output_type": "stream",
     "text": [
      "True\n"
     ]
    }
   ],
   "source": [
    "def checkingIfIn(string,direction=True,d={'apple': 2, 'pear': 1, 'fruit': 19, 'orange': 5, 'banana': 3, 'grapes': 2, 'watermelon': 7}):\n",
    "    if direction==True:\n",
    "        if string in d:\n",
    "            return True\n",
    "        else:\n",
    "            return False\n",
    "    else:\n",
    "        if string not in d:\n",
    "            return True\n",
    "        else:\n",
    "            return False\n",
    "print(checkingIfIn('grapes')) # True"
   ]
  },
  {
   "cell_type": "markdown",
   "id": "cd30c4d5",
   "metadata": {},
   "source": [
    "---\n",
    "\n",
    "# File Handling\n",
    "\n",
    "Here are three lists of texts; write them to files `travel_plans.txt`, `emotion_words.txt` and `school_prompt.txt`"
   ]
  },
  {
   "cell_type": "code",
   "execution_count": null,
   "id": "90378c45",
   "metadata": {},
   "outputs": [],
   "source": [
    "fileref = open(\"travel_plans.txt\", \"w\")\n",
    "lis1=['This summer I will be travelling.\\n', 'I will go to...\\n', 'Italy: Rome\\n', 'Greece: Athens\\n', 'England: London, Manchester\\n', 'France: Paris, Nice, Lyon\\n', \n",
    "     'Spain: Madrid, Barcelona, Granada\\n', 'Austria: Vienna\\n', 'I will probably not even want to come back!\\n',\n",
    "     'However, I wonder how I will get by with all the different languages.\\n', 'I only know English!\\n']\n",
    "for lines in lis1:\n",
    "  fileref.write(lines)\n",
    "\n",
    "fileref.close()"
   ]
  },
  {
   "cell_type": "code",
   "execution_count": null,
   "id": "cb23ba2e",
   "metadata": {},
   "outputs": [],
   "source": [
    "# file name ---> \"emotion_words.txt\"\n",
    "lis2=['Sad upset blue down melancholy somber bitter troubled\\n', 'Angry mad enraged irate irritable wrathful outraged infuriated\\n',\n",
    "     'Happy cheerful content elated joyous delighted lively glad\\n', 'Confused disoriented puzzled perplexed dazed befuddled\\n', \n",
    "     'Excited eager thrilled delighted\\n','Scared afraid fearful panicked terrified petrified startled\\n', \n",
    "     'Nervous anxious jittery jumpy tense uneasy apprehensive\\n']\n",
    "\n",
    "# Do as before"
   ]
  },
  {
   "cell_type": "code",
   "execution_count": null,
   "id": "7d606c52",
   "metadata": {},
   "outputs": [],
   "source": [
    "# file name ---> \"school_prompt.txt\"\n",
    "lis3=['Writing essays for school can be difficult but\\n', 'many students find that by researching their topic that they\\n', \n",
    "     'have more to say and are better informed. Here are the university\\n', 'we require many undergraduate students to take a first year writing requirement\\n', \n",
    "     'so that they can\\n', 'have a solid foundation for their writing skills. This comes\\n', 'in handy for many students.\\n',\n",
    "     'Different schools have different requirements, but everyone uses\\n', 'writing at some point in their academic career, be it essays, research papers,\\n',\n",
    "     'technical write ups, or scripts.\\n']\n",
    "\n",
    "# Do as before"
   ]
  },
  {
   "cell_type": "code",
   "execution_count": 40,
   "id": "2e21e583",
   "metadata": {},
   "outputs": [],
   "source": [
    "# Question-1\n",
    "\n",
    "# The textfile, `travel_plans.txt`, contains the summer travel plans for someone with some commentary. \n",
    "# fine the total number of characters in the file and save to variable `num`.\n",
    "\n",
    "\n",
    "travel=open(\"travel_plans.txt\",\"r\")\n",
    "lines=travel.readlines()\n",
    "num=0\n",
    "for line in lines[0:]:\n",
    "    num=num+len(line)\n",
    "print(\"num:\",num)\n",
    "\n",
    "# output; num: 316\n"
   ]
  },
  {
   "cell_type": "code",
   "execution_count": null,
   "id": "e4db8fc1",
   "metadata": {},
   "outputs": [],
   "source": [
    "# Question-2\n",
    "\n",
    "# The textfile `emotion_words.txt` that contains lines of words that describe emotions.\n",
    "# Find the total number of words in the file and assign this value to the variable `num_words`.\n",
    "\n",
    "travel=open(\"emotion_words.txt\",\"r\")\n",
    "lines=travel.readlines()\n",
    "num_words=0\n",
    "for line in lines[0:]:\n",
    "    val=line.split(\" \")\n",
    "    num_words+=len(val)\n",
    "print(\"num_words:\",num_words)\n",
    "\n",
    "\n",
    "# Output; num_words: 48"
   ]
  },
  {
   "cell_type": "code",
   "execution_count": null,
   "id": "e96e536c",
   "metadata": {},
   "outputs": [],
   "source": [
    "# Question-3\n",
    "\n",
    "# Assign to the variable `num_lines` the number of lines in the file `school_prompt.txt`\n",
    "\n",
    "\n",
    "school=open(\"school_prompt.txt\",\"r\")\n",
    "lines=school.readlines()\n",
    "num_lines=0\n",
    "for line in lines[0:]:\n",
    "    num_lines+=1\n",
    "print(\"num_lines:\",num_lines)\n",
    "\n",
    "# Output num_lines: 10"
   ]
  },
  {
   "cell_type": "code",
   "execution_count": null,
   "id": "61644515",
   "metadata": {},
   "outputs": [],
   "source": [
    "# Question-4\n",
    "\n",
    "# Assign the first 30 characters of `school_prompt.txt` as a string to the variable `beginning_chars`\n",
    "\n",
    "\n",
    "school=open(\"school_prompt.txt\",\"r\")\n",
    "lines=school.readlines()\n",
    "chars=\"\"\n",
    "for line in lines:\n",
    "    chars+=''.join(line)\n",
    "beginning_chars=\"\"     \n",
    "for i in range(30):\n",
    "    beginning_chars+=chars[i]\n",
    "print(\"beginning_chars:\",beginning_chars)\n",
    "\n",
    "\n",
    "# output\n",
    "# beginning_chars: Writing  essays for school can"
   ]
  },
  {
   "cell_type": "code",
   "execution_count": null,
   "id": "3408ba16",
   "metadata": {},
   "outputs": [],
   "source": [
    "# Question-5\n",
    "\n",
    "# Using the file `school_prompt.txt`, assign the third word of every line to a list called `three`.\n",
    "\n",
    "school=open(\"school_prompt.txt\",\"r\")\n",
    "lines=school.readlines()\n",
    "three=[]\n",
    "for line in lines[0:]:\n",
    "    val=line.split(\" \")\n",
    "    three.append(val[2])\n",
    "print(three)  \n",
    "\n",
    "\n",
    "\n",
    "# OUtput\n",
    "# ['for', 'find', 'to', 'many', 'they', 'solid', 'for', 'have', 'some', 'ups,']"
   ]
  },
  {
   "cell_type": "code",
   "execution_count": null,
   "id": "cbe6db28",
   "metadata": {},
   "outputs": [],
   "source": [
    "# Question-6\n",
    "\n",
    "# in file `school_prompt.txt`, check for every word in the file and append the words that contains the letter `p` to the list of name `p_words`\n",
    "# then loop over each word in the list, if it ends with `\\n` then remove its end; e.g topic\\n ==> topic\n",
    "\n",
    "\n",
    "school=open(\"school_prompt.txt\",\"r\")\n",
    "lines=school.readlines()\n",
    "p_words=[]\n",
    "for line in lines[0:]:\n",
    "    val=line.split(\" \")\n",
    "    for wrd in val:\n",
    "        if 'p' in wrd:\n",
    "            p_words.append(wrd)\n",
    "            \n",
    "for i in range(len(p_words)):\n",
    "    if '\\n' in p_words[i]:\n",
    "        p_words[i]=p_words[i][:len(p_words[i])-1]\n",
    "    \n",
    "print(p_words)\n",
    "\n",
    "# OUtput\n",
    "# ['topic', 'point', 'papers,', 'ups,', 'scripts.']\n",
    "\n"
   ]
  }
 ],
 "metadata": {
  "kernelspec": {
   "display_name": "Python 3 (ipykernel)",
   "language": "python",
   "name": "python3"
  },
  "language_info": {
   "codemirror_mode": {
    "name": "ipython",
    "version": 3
   },
   "file_extension": ".py",
   "mimetype": "text/x-python",
   "name": "python",
   "nbconvert_exporter": "python",
   "pygments_lexer": "ipython3",
   "version": "3.12.2"
  }
 },
 "nbformat": 4,
 "nbformat_minor": 5
}
